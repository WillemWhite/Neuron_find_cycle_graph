{
 "cells": [
  {
   "cell_type": "code",
   "execution_count": 1,
   "metadata": {},
   "outputs": [],
   "source": [
    "# [1] Импортируем всё необходимое.\n",
    "import tensorflow as tf\n",
    "import keras as k\n",
    "from keras.models import load_model as l_m\n",
    "import pandas as pd\n",
    "import numpy as np\n",
    "import matplotlib.pyplot as plt"
   ]
  },
  {
   "cell_type": "code",
   "execution_count": 2,
   "metadata": {},
   "outputs": [],
   "source": [
    "# Необходимо для обучения. Подключать НЕОБЯЗАТЕЛЬНО!\n",
    "# В случае, если хотите протестировать обучение - добро пожаловать!\n",
    "# Тогда измените путь до csv файла на свой.\n",
    "\n",
    "# Чтение БД, созданной собственноручно.\n",
    "data_frame = pd.read_csv(\"train5.csv\")\n",
    "\n",
    "input_names = [\"aa\",\"ab\",\"ac\",\"ad\",\"ae\",\n",
    "               \"ba\",\"bb\",\"bc\",\"bd\",\"be\",\n",
    "               \"ca\",\"cb\",\"cc\",\"cd\",\"ce\",\n",
    "               \"da\",\"db\",\"dc\",\"dd\",\"de\",\n",
    "               \"ea\",\"eb\",\"ec\",\"ed\",\"ee\"]\n",
    "\n",
    "output_names = [\"isCycle:\"] "
   ]
  },
  {
   "cell_type": "code",
   "execution_count": 3,
   "metadata": {},
   "outputs": [],
   "source": [
    "# Нормализация данных.\n",
    "\n",
    "# Формирование словаря столбцов тренировочного набора\n",
    "def data_frame_to_dict(df):\n",
    "    result = dict()\n",
    "    for column in df.columns:\n",
    "        values = data_frame[column].values\n",
    "        result[column] = values\n",
    "    return result\n",
    "\n",
    "# Разделения входного вектора тренировочных данных и выхода\n",
    "def make_supervised(df):\n",
    "    raw_input_data = data_frame[input_names]\n",
    "    raw_output_data = data_frame[output_names]\n",
    "    return{\"inputs\":data_frame_to_dict(raw_input_data),\n",
    "           \"outputs\":data_frame_to_dict(raw_output_data)}"
   ]
  },
  {
   "cell_type": "code",
   "execution_count": 4,
   "metadata": {},
   "outputs": [],
   "source": [
    "# Делаем каждый элемент списком, чтобы потом соединить их в строчки входных и \n",
    "# выходных данных из базы данных с помощью функции zip\n",
    "def encode(data):\n",
    "    vectors = []\n",
    "    for data_name, data_values in data.items():\n",
    "        encoded = list(map(lambda dn: [dn], data_values))\n",
    "        vectors.append(encoded)\n",
    "        \n",
    "    formatted = []\n",
    "    for vector_raw in list(zip(*vectors)):\n",
    "        vector = []\n",
    "        for element in vector_raw:\n",
    "            for e in element:\n",
    "                vector.append(e)\n",
    "        formatted.append(vector)\n",
    "    return formatted"
   ]
  },
  {
   "cell_type": "code",
   "execution_count": 5,
   "metadata": {},
   "outputs": [],
   "source": [
    "# Разделение получившегося словаря на массивы входных и выходных данных \n",
    "# (которые уже нормализовали)\n",
    "supervised = make_supervised(data_frame)\n",
    "encoded_inputs = np.array(encode(supervised[\"inputs\"]))\n",
    "encoded_outputs = np.array(encode(supervised[\"outputs\"]))"
   ]
  },
  {
   "cell_type": "code",
   "execution_count": 6,
   "metadata": {},
   "outputs": [],
   "source": [
    "# Определение входных и выходных данных, тестов, а также самой нейронной сети.\n",
    "train_x = encoded_inputs[:999500]\n",
    "train_y = encoded_outputs[:999500]\n",
    "\n",
    "test_x = encoded_inputs[999500:]\n",
    "test_y = encoded_outputs[999500:]"
   ]
  },
  {
   "cell_type": "code",
   "execution_count": 18,
   "metadata": {},
   "outputs": [],
   "source": [
    "# Как видно, в нашей нейронной сети 2 слоя соответственно с 25 и 1 нейроном,\n",
    "# Функция активации первого слоя - relu. Второго, для нормализации выхода,\n",
    "# sigmoid. Метод вычисления ошибки - mse (средн. кв. ошибки). Оптимизатор \n",
    "# обучения - adam. Метрики - accuracy (точность).\n",
    "model = k.Sequential()\n",
    "model.add(k.layers.Dense(units = 25, activation=\"relu\"))\n",
    "model.add(k.layers.Dense(units = 1, activation=\"sigmoid\"))\n",
    "model.compile(loss = \"mse\", optimizer=\"adam\", metrics=[\"accuracy\"])"
   ]
  },
  {
   "cell_type": "code",
   "execution_count": 19,
   "metadata": {},
   "outputs": [
    {
     "name": "stdout",
     "output_type": "stream",
     "text": [
      "Epoch 1/30\n",
      "24988/24988 [==============================] - 57s 2ms/step - loss: 0.0299 - accuracy: 0.9687 - val_loss: 0.0077 - val_accuracy: 0.9924\n",
      "Epoch 2/30\n",
      "24988/24988 [==============================] - 57s 2ms/step - loss: 0.0059 - accuracy: 0.9942 - val_loss: 0.0052 - val_accuracy: 0.9947\n",
      "Epoch 3/30\n",
      "24988/24988 [==============================] - 65s 3ms/step - loss: 0.0045 - accuracy: 0.9954 - val_loss: 0.0039 - val_accuracy: 0.9958\n",
      "Epoch 4/30\n",
      "24988/24988 [==============================] - 67s 3ms/step - loss: 0.0038 - accuracy: 0.9959 - val_loss: 0.0035 - val_accuracy: 0.9963\n",
      "Epoch 5/30\n",
      "24988/24988 [==============================] - 153s 6ms/step - loss: 0.0034 - accuracy: 0.9963 - val_loss: 0.0032 - val_accuracy: 0.9966\n",
      "Epoch 6/30\n",
      "24988/24988 [==============================] - 204s 8ms/step - loss: 0.0031 - accuracy: 0.9966 - val_loss: 0.0030 - val_accuracy: 0.9966\n",
      "Epoch 7/30\n",
      "24988/24988 [==============================] - 207s 8ms/step - loss: 0.0028 - accuracy: 0.9968 - val_loss: 0.0030 - val_accuracy: 0.9964\n",
      "Epoch 8/30\n",
      "24988/24988 [==============================] - 203s 8ms/step - loss: 0.0026 - accuracy: 0.9970 - val_loss: 0.0024 - val_accuracy: 0.9972\n",
      "Epoch 9/30\n",
      "24988/24988 [==============================] - 193s 8ms/step - loss: 0.0024 - accuracy: 0.9972 - val_loss: 0.0023 - val_accuracy: 0.9975\n",
      "Epoch 10/30\n",
      "24988/24988 [==============================] - 200s 8ms/step - loss: 0.0022 - accuracy: 0.9975 - val_loss: 0.0021 - val_accuracy: 0.9975\n",
      "Epoch 11/30\n",
      "24988/24988 [==============================] - 193s 8ms/step - loss: 0.0021 - accuracy: 0.9976 - val_loss: 0.0020 - val_accuracy: 0.9978\n",
      "Epoch 12/30\n",
      "24988/24988 [==============================] - 200s 8ms/step - loss: 0.0020 - accuracy: 0.9977 - val_loss: 0.0020 - val_accuracy: 0.9977\n",
      "Epoch 13/30\n",
      "24988/24988 [==============================] - 196s 8ms/step - loss: 0.0019 - accuracy: 0.9979 - val_loss: 0.0018 - val_accuracy: 0.9980\n",
      "Epoch 14/30\n",
      "24988/24988 [==============================] - 194s 8ms/step - loss: 0.0018 - accuracy: 0.9979 - val_loss: 0.0022 - val_accuracy: 0.9974\n",
      "Epoch 15/30\n",
      "24988/24988 [==============================] - 200s 8ms/step - loss: 0.0017 - accuracy: 0.9980 - val_loss: 0.0021 - val_accuracy: 0.9974\n",
      "Epoch 16/30\n",
      "24988/24988 [==============================] - 194s 8ms/step - loss: 0.0017 - accuracy: 0.9981 - val_loss: 0.0017 - val_accuracy: 0.9980\n",
      "Epoch 17/30\n",
      "24988/24988 [==============================] - 199s 8ms/step - loss: 0.0016 - accuracy: 0.9981 - val_loss: 0.0015 - val_accuracy: 0.9982\n",
      "Epoch 18/30\n",
      "24988/24988 [==============================] - 197s 8ms/step - loss: 0.0016 - accuracy: 0.9982 - val_loss: 0.0015 - val_accuracy: 0.9982\n",
      "Epoch 19/30\n",
      "24988/24988 [==============================] - 196s 8ms/step - loss: 0.0015 - accuracy: 0.9983 - val_loss: 0.0017 - val_accuracy: 0.9980\n",
      "Epoch 20/30\n",
      "24988/24988 [==============================] - 198s 8ms/step - loss: 0.0014 - accuracy: 0.9984 - val_loss: 0.0014 - val_accuracy: 0.9984\n",
      "Epoch 21/30\n",
      "24988/24988 [==============================] - 194s 8ms/step - loss: 0.0014 - accuracy: 0.9984 - val_loss: 0.0014 - val_accuracy: 0.9983\n",
      "Epoch 22/30\n",
      "24988/24988 [==============================] - 229s 9ms/step - loss: 0.0014 - accuracy: 0.9985 - val_loss: 0.0015 - val_accuracy: 0.9983\n",
      "Epoch 23/30\n",
      "24988/24988 [==============================] - 196s 8ms/step - loss: 0.0013 - accuracy: 0.9985 - val_loss: 0.0013 - val_accuracy: 0.9985\n",
      "Epoch 24/30\n",
      "24988/24988 [==============================] - 193s 8ms/step - loss: 0.0013 - accuracy: 0.9985 - val_loss: 0.0014 - val_accuracy: 0.9983\n",
      "Epoch 25/30\n",
      "24988/24988 [==============================] - 261s 10ms/step - loss: 0.0013 - accuracy: 0.9985 - val_loss: 0.0013 - val_accuracy: 0.9984\n",
      "Epoch 26/30\n",
      "24988/24988 [==============================] - 197s 8ms/step - loss: 0.0012 - accuracy: 0.9986 - val_loss: 0.0011 - val_accuracy: 0.9986\n",
      "Epoch 27/30\n",
      "24988/24988 [==============================] - 193s 8ms/step - loss: 0.0012 - accuracy: 0.9986 - val_loss: 0.0013 - val_accuracy: 0.9986\n",
      "Epoch 28/30\n",
      "24988/24988 [==============================] - 562s 22ms/step - loss: 0.0012 - accuracy: 0.9987 - val_loss: 0.0012 - val_accuracy: 0.9985\n",
      "Epoch 29/30\n",
      "24988/24988 [==============================] - 194s 8ms/step - loss: 0.0012 - accuracy: 0.9987 - val_loss: 0.0010 - val_accuracy: 0.9988\n",
      "Epoch 30/30\n",
      "24988/24988 [==============================] - 197s 8ms/step - loss: 0.0011 - accuracy: 0.9987 - val_loss: 0.0012 - val_accuracy: 0.9987\n"
     ]
    }
   ],
   "source": [
    "# Обучение, НЕОБЯЗАТЕЛЬНО!\n",
    "# (не через colab, все выполняли на родном компуктере :3)\n",
    "# Обучение долгое из-за миллиона строк данных, так что не советую запускать,\n",
    "# лучше перейдите в конец файла и запустите блок, который выполняет загрузку \n",
    "# существующей нейронной сети.\n",
    "fit_result = model.fit(x = train_x, y = train_y, epochs = 30, validation_split = 0.2)"
   ]
  },
  {
   "cell_type": "code",
   "execution_count": 20,
   "metadata": {},
   "outputs": [
    {
     "data": {
      "image/png": "[encoded data removed]",
      "text/plain": [
       "<Figure size 432x288 with 1 Axes>"
      ]
     },
     "metadata": {
      "needs_background": "light"
     },
     "output_type": "display_data"
    },
    {
     "data": {
      "image/png": "[encoded data removed]",
      "text/plain": [
       "<Figure size 432x288 with 1 Axes>"
      ]
     },
     "metadata": {
      "needs_background": "light"
     },
     "output_type": "display_data"
    }
   ],
   "source": [
    "# Вывод статистики обучения.\n",
    "plt.title(\"Losses train/validation\")\n",
    "plt.plot(fit_result.history[\"loss\"], label = \"Train\")\n",
    "plt.plot(fit_result.history[\"val_loss\"], label = \"Validation\")\n",
    "plt.legend()\n",
    "plt.show()\n",
    "\n",
    "plt.title(\"Accuracies train/validation\")\n",
    "plt.plot(fit_result.history[\"accuracy\"], label = \"Train\")\n",
    "plt.plot(fit_result.history[\"val_accuracy\"], label = \"Validation\")\n",
    "plt.legend()\n",
    "plt.show()"
   ]
  },
  {
   "cell_type": "code",
   "execution_count": 9,
   "metadata": {},
   "outputs": [
    {
     "name": "stdout",
     "output_type": "stream",
     "text": [
      "        aa  ab  ac  ad  ae  ba  bb  bc  bd  be  ...  dc  dd  de  ea  eb  ec  \\\n",
      "999500   0   1   0   0   1   0   0   0   0   0  ...   0   0   1   0   1   0   \n",
      "999501   1   1   0   0   0   1   0   1   0   0  ...   0   0   0   0   0   0   \n",
      "999502   1   1   0   1   1   0   1   1   1   1  ...   1   1   1   0   1   0   \n",
      "999503   0   1   0   0   0   0   0   0   0   0  ...   1   0   0   0   0   1   \n",
      "999504   1   0   1   0   0   0   0   0   0   0  ...   0   0   1   0   0   0   \n",
      "...     ..  ..  ..  ..  ..  ..  ..  ..  ..  ..  ...  ..  ..  ..  ..  ..  ..   \n",
      "999995   1   0   0   1   0   0   0   0   0   0  ...   0   1   0   0   0   0   \n",
      "999996   1   0   0   0   0   0   0   0   0   0  ...   0   1   0   1   0   0   \n",
      "999997   0   0   1   0   0   0   1   0   0   1  ...   1   0   0   0   0   0   \n",
      "999998   0   0   1   0   1   0   0   0   0   0  ...   1   0   0   0   0   0   \n",
      "999999   1   0   0   1   1   1   0   1   0   1  ...   0   1   1   1   1   1   \n",
      "\n",
      "        ed  ee  isCycle:       isCycle  \n",
      "999500   0   0         0  1.147044e-07  \n",
      "999501   0   1         1  1.000000e+00  \n",
      "999502   0   1         1  1.000000e+00  \n",
      "999503   0   0         1  9.999993e-01  \n",
      "999504   0   0         0  3.774549e-12  \n",
      "...     ..  ..       ...           ...  \n",
      "999995   0   0         0  2.122212e-11  \n",
      "999996   1   0         0  1.185760e-11  \n",
      "999997   0   1         0  1.552666e-12  \n",
      "999998   0   0         0  3.291341e-12  \n",
      "999999   0   1         1  1.000000e+00  \n",
      "\n",
      "[500 rows x 27 columns]\n"
     ]
    }
   ],
   "source": [
    "# Пример поведения с неизвестными данными.\n",
    "# (последние 500 не обрабатывали, потому и проверяем тут)\n",
    "predicted_test = model.predict(test_x)\n",
    "real_data = data_frame.iloc[999500:][input_names + output_names]\n",
    "real_data[\"isCycle\"] = predicted_test\n",
    "print(real_data)"
   ]
  },
  {
   "cell_type": "code",
   "execution_count": 10,
   "metadata": {},
   "outputs": [
    {
     "name": "stdout",
     "output_type": "stream",
     "text": [
      "99.8\n"
     ]
    }
   ],
   "source": [
    "# Точность модели с неизвестными данными\n",
    "y = model.predict(test_x)\n",
    "y2 = tf.cast(tf.round(y), dtype = np.int32).numpy()\n",
    "test_acc = len(test_y[test_y == y2]) / test_y.shape[0]*100\n",
    "print(test_acc)"
   ]
  },
  {
   "cell_type": "code",
   "execution_count": 11,
   "metadata": {},
   "outputs": [
    {
     "name": "stdout",
     "output_type": "stream",
     "text": [
      "[[1.2032247e-15]]\n"
     ]
    }
   ],
   "source": [
    "# [2] Можете попробовать свои примеры ниже!\n",
    "# Измените путь до h5 файла(файл обученной нейронной сети) на свой. \n",
    "model = l_m('find_cycle_in_5x5.h5')\n",
    "example = np.array([1,0,0,0,0,\n",
    "                    0,1,0,0,0,\n",
    "                    0,0,1,0,0,\n",
    "                    0,0,0,1,0,\n",
    "                    0,0,0,0,1])\n",
    "x = tf.reshape(tf.cast(example, tf.float32), [-1, 25])\n",
    "print(model.predict(x))"
   ]
  },
  {
   "cell_type": "code",
   "execution_count": 12,
   "metadata": {},
   "outputs": [
    {
     "name": "stdout",
     "output_type": "stream",
     "text": [
      "[[0.71591455]]\n"
     ]
    }
   ],
   "source": [
    "example = np.array([1,0,0,0,0,\n",
    "                    0,1,0,0,0,\n",
    "                    0,0,1,0,0,\n",
    "                    0,1,0,1,1,\n",
    "                    0,0,1,1,1])\n",
    "x = tf.reshape(tf.cast(example, tf.float32), [-1, 25])\n",
    "print(model.predict(x))"
   ]
  },
  {
   "cell_type": "code",
   "execution_count": 24,
   "metadata": {},
   "outputs": [],
   "source": [
    "# Сохранение обученной нейронной сети:\n",
    "# model.save('find_cycle_in_5x5.h5')"
   ]
  }
 ],
 "metadata": {
  "interpreter": {
   "hash": "a26b82981ee3ffcb0e21a80a3057216074d3059b888602cf06c875db02ee1c95"
  },
  "kernelspec": {
   "display_name": "Python 3.9.7 64-bit ('Neuron_graph': conda)",
   "language": "python",
   "name": "python3"
  },
  "language_info": {
   "codemirror_mode": {
    "name": "ipython",
    "version": 3
   },
   "file_extension": ".py",
   "mimetype": "text/x-python",
   "name": "python",
   "nbconvert_exporter": "python",
   "pygments_lexer": "ipython3",
   "version": "3.9.7"
  },
  "orig_nbformat": 4
 },
 "nbformat": 4,
 "nbformat_minor": 2
}
